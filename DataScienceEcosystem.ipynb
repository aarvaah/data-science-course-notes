{
 "cells": [
  {
   "cell_type": "markdown",
   "id": "1358914d",
   "metadata": {},
   "source": [
    "# Data Science Tools and Ecosystem"
   ]
  },
  {
   "cell_type": "markdown",
   "id": "8d3393e2",
   "metadata": {},
   "source": [
    "In this notebook, Data Science Tools and Ecosystem are summarized."
   ]
  },
  {
   "cell_type": "markdown",
   "id": "3d3d9322",
   "metadata": {},
   "source": [
    "**Objectives :**\n",
    "+ The Pupular Langauges That Data Scientists Use.\n",
    "+ Commonly Used Libraries by Data Scientists.\n",
    "+ Write and evaluate simple Python expressions.\n",
    "+ Understand the basics of Jupyter Notebooks.\n",
    "+ Understand the basics of Jupyter Notebooks."
   ]
  },
  {
   "cell_type": "markdown",
   "id": "67f17a87",
   "metadata": {},
   "source": [
    "Some of the popular languages that Data Scientists use are:\n",
    "1. Python\n",
    "2. R\n",
    "3. Scala\n",
    "4. SQL\n",
    "5. Julia"
   ]
  },
  {
   "cell_type": "markdown",
   "id": "9418cac4",
   "metadata": {},
   "source": [
    "Some of the commonly used libraries used by Data Scientists include:\n",
    "\n",
    "1. NumPy – for numerical computations  \n",
    "2. pandas – for data manipulation and analysis  \n",
    "3. Matplotlib – for data visualization  \n",
    "4. scikit-learn – for machine learning algorithms  \n",
    "5. TensorFlow – for deep learning and neural networks  \n",
    "6. seaborn – for statistical data visualization\n"
   ]
  },
  {
   "cell_type": "markdown",
   "id": "21265c0a",
   "metadata": {},
   "source": [
    "| Data Science Tools |\n",
    "|--------------------|\n",
    "| Jupyter Notebook |\n",
    "| RStudio |\n",
    "| Google Collab |"
   ]
  },
  {
   "cell_type": "code",
   "execution_count": 3,
   "id": "298287df",
   "metadata": {},
   "outputs": [
    {
     "data": {
      "text/plain": [
       "17"
      ]
     },
     "execution_count": 3,
     "metadata": {},
     "output_type": "execute_result"
    }
   ],
   "source": [
    "#This a simple arithmetic expression to mutiply then add integers\n",
    "(3*4)+5"
   ]
  },
  {
   "cell_type": "code",
   "execution_count": 4,
   "id": "93de06fa",
   "metadata": {},
   "outputs": [
    {
     "data": {
      "text/plain": [
       "3.3333333333333335"
      ]
     },
     "execution_count": 4,
     "metadata": {},
     "output_type": "execute_result"
    }
   ],
   "source": [
    "#This will convert 200 minutes to hours by diving by 60\n",
    "200/60"
   ]
  },
  {
   "cell_type": "markdown",
   "id": "8cac2344",
   "metadata": {},
   "source": [
    "## Author\n",
    "Dhavalsinh Manharsinh Chauhan"
   ]
  }
 ],
 "metadata": {
  "kernelspec": {
   "display_name": "Python 3 (ipykernel)",
   "language": "python",
   "name": "python3"
  },
  "language_info": {
   "codemirror_mode": {
    "name": "ipython",
    "version": 3
   },
   "file_extension": ".py",
   "mimetype": "text/x-python",
   "name": "python",
   "nbconvert_exporter": "python",
   "pygments_lexer": "ipython3",
   "version": "3.11.5"
  }
 },
 "nbformat": 4,
 "nbformat_minor": 5
}
